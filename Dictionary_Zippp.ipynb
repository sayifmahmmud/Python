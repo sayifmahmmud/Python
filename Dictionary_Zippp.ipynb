{
 "cells": [
  {
   "cell_type": "markdown",
   "id": "a2a87fad-ea11-4194-96e4-f16f2f18a94a",
   "metadata": {},
   "source": [
    "# Dictionary"
   ]
  },
  {
   "cell_type": "code",
   "execution_count": 2,
   "id": "bd20e824-1561-4f44-a5af-e027baf631a7",
   "metadata": {},
   "outputs": [],
   "source": [
    "dic={\n",
    "    'name':'Sayif',\n",
    "    'University':'AUST'\n",
    "}"
   ]
  },
  {
   "cell_type": "code",
   "execution_count": 4,
   "id": "01c5f139-b513-4b4c-83a2-e462f354ae84",
   "metadata": {},
   "outputs": [
    {
     "data": {
      "text/plain": [
       "{'name': 'Sayif', 'University': 'AUST'}"
      ]
     },
     "execution_count": 4,
     "metadata": {},
     "output_type": "execute_result"
    }
   ],
   "source": [
    "dic"
   ]
  },
  {
   "cell_type": "code",
   "execution_count": 6,
   "id": "13d76f4d-a3ce-41ca-9c7f-35dce7b6cd22",
   "metadata": {},
   "outputs": [
    {
     "data": {
      "text/plain": [
       "dict_keys(['name', 'University'])"
      ]
     },
     "execution_count": 6,
     "metadata": {},
     "output_type": "execute_result"
    }
   ],
   "source": [
    "dic.keys()"
   ]
  },
  {
   "cell_type": "code",
   "execution_count": 8,
   "id": "9390935e-5577-41e2-9dff-be2bbef59a58",
   "metadata": {},
   "outputs": [
    {
     "data": {
      "text/plain": [
       "dict_values(['Sayif', 'AUST'])"
      ]
     },
     "execution_count": 8,
     "metadata": {},
     "output_type": "execute_result"
    }
   ],
   "source": [
    "dic.values()"
   ]
  },
  {
   "cell_type": "code",
   "execution_count": 10,
   "id": "0369def5-013a-45e7-a65d-1481fea443b4",
   "metadata": {},
   "outputs": [
    {
     "data": {
      "text/plain": [
       "dict"
      ]
     },
     "execution_count": 10,
     "metadata": {},
     "output_type": "execute_result"
    }
   ],
   "source": [
    "type(dic)"
   ]
  },
  {
   "cell_type": "code",
   "execution_count": 29,
   "id": "a21ca262-4d1f-4596-a025-54ec556562d5",
   "metadata": {},
   "outputs": [
    {
     "name": "stdin",
     "output_type": "stream",
     "text": [
      "Enter total num of dic 2\n",
      "Enter keys sayif\n",
      "Enter values aust\n",
      "Enter keys sohan\n",
      "Enter values nsu\n"
     ]
    },
    {
     "name": "stdout",
     "output_type": "stream",
     "text": [
      "{'sayif': 'aust', 'sohan': 'nsu'}\n"
     ]
    }
   ],
   "source": [
    "#dictionary from user input\n",
    "\n",
    "n=int(input('Enter total num of dic'))\n",
    "d={}\n",
    "\n",
    "for i in range(n):\n",
    "    keys=input('Enter keys')\n",
    "    values=input('Enter values')\n",
    "    d[keys]=values\n",
    "\n",
    "print(d)"
   ]
  },
  {
   "cell_type": "markdown",
   "id": "1f1316dd-f586-4bb4-a83f-2dddefbe5f59",
   "metadata": {},
   "source": [
    "# Zippp"
   ]
  },
  {
   "cell_type": "code",
   "execution_count": 17,
   "id": "35cc9331-d990-4775-86be-b311f6b44ee3",
   "metadata": {},
   "outputs": [],
   "source": [
    "name=['sayif','sabbir','sohan']\n",
    "varsity=['aust','diu','nsu']"
   ]
  },
  {
   "cell_type": "code",
   "execution_count": 21,
   "id": "b97906d8-89b0-418a-beb8-0bdbb6d2b497",
   "metadata": {},
   "outputs": [
    {
     "name": "stdout",
     "output_type": "stream",
     "text": [
      "[('sayif', 'aust'), ('sabbir', 'diu'), ('sohan', 'nsu')]\n"
     ]
    }
   ],
   "source": [
    "zipped= list(zip(name,varsity))\n",
    "print(zipped)"
   ]
  },
  {
   "cell_type": "code",
   "execution_count": 23,
   "id": "7ce55cba-e9c5-4ad6-94f1-b340a6446e5f",
   "metadata": {},
   "outputs": [
    {
     "name": "stdout",
     "output_type": "stream",
     "text": [
      "(('sayif', 'aust'), ('sabbir', 'diu'), ('sohan', 'nsu'))\n"
     ]
    }
   ],
   "source": [
    "zipped= tuple(zip(name,varsity))\n",
    "print(zipped)"
   ]
  },
  {
   "cell_type": "code",
   "execution_count": null,
   "id": "d5056970-8f65-4825-a2ca-4b20af15db7a",
   "metadata": {},
   "outputs": [],
   "source": [
    "# zipped= dict(zip(name,varsity))\n",
    "print(zipped)"
   ]
  },
  {
   "cell_type": "markdown",
   "id": "b924d918-7105-4c66-b19e-af862f9e2edd",
   "metadata": {},
   "source": [
    "# Unzzipppp"
   ]
  },
  {
   "cell_type": "code",
   "execution_count": 33,
   "id": "afb36d17-fc17-46eb-b241-5421acc398ab",
   "metadata": {},
   "outputs": [
    {
     "name": "stdout",
     "output_type": "stream",
     "text": [
      "[('sayif', 'aust'), ('sabbir', 'diu'), ('sohan', 'nsu')]\n"
     ]
    }
   ],
   "source": [
    "zipped= list(zip(name,varsity))\n",
    "print(zipped)"
   ]
  },
  {
   "cell_type": "code",
   "execution_count": 45,
   "id": "db58047e-e690-47b2-a78a-e72d81c0c9ed",
   "metadata": {},
   "outputs": [],
   "source": [
    "name,varsity=zip(*zipped)"
   ]
  },
  {
   "cell_type": "code",
   "execution_count": 47,
   "id": "9ed1e043-7eeb-4067-bbc6-d3fd06d40714",
   "metadata": {},
   "outputs": [
    {
     "data": {
      "text/plain": [
       "('sayif', 'sabbir', 'sohan')"
      ]
     },
     "execution_count": 47,
     "metadata": {},
     "output_type": "execute_result"
    }
   ],
   "source": [
    "name"
   ]
  },
  {
   "cell_type": "code",
   "execution_count": 49,
   "id": "73fc7baf-a5d0-4360-a321-d262c051d359",
   "metadata": {},
   "outputs": [
    {
     "data": {
      "text/plain": [
       "('aust', 'diu', 'nsu')"
      ]
     },
     "execution_count": 49,
     "metadata": {},
     "output_type": "execute_result"
    }
   ],
   "source": [
    "varsity"
   ]
  },
  {
   "cell_type": "markdown",
   "id": "0f240382-9e88-4e70-b9ed-d89690478d35",
   "metadata": {},
   "source": [
    "# zip by import"
   ]
  },
  {
   "cell_type": "code",
   "execution_count": 67,
   "id": "6a35c157-357e-4133-9c7f-7ce690a3e8a0",
   "metadata": {},
   "outputs": [],
   "source": [
    "import zipfile as zp\n",
    "\n",
    "zipp=zp.ZipFile('Zipless.zip','w')\n",
    "zipp.write('sayif-cv.png')\n",
    "zipp.write('Screenshot(1).png')"
   ]
  },
  {
   "cell_type": "markdown",
   "id": "0e65562e-a12c-4eb0-8a07-74107c8d980e",
   "metadata": {},
   "source": [
    "# Unzipp"
   ]
  },
  {
   "cell_type": "code",
   "execution_count": 69,
   "id": "0346e4c5-7bda-48e3-927f-9c2b419ffbac",
   "metadata": {},
   "outputs": [],
   "source": [
    "with zp.ZipFile('Zipless.zip','r') as file:  #r stands for read\n",
    "    file.extractall('Unzip')\n"
   ]
  },
  {
   "cell_type": "code",
   "execution_count": null,
   "id": "482b192c-655d-47ab-a205-720e6d4e2860",
   "metadata": {},
   "outputs": [],
   "source": []
  }
 ],
 "metadata": {
  "kernelspec": {
   "display_name": "Python 3 (ipykernel)",
   "language": "python",
   "name": "python3"
  },
  "language_info": {
   "codemirror_mode": {
    "name": "ipython",
    "version": 3
   },
   "file_extension": ".py",
   "mimetype": "text/x-python",
   "name": "python",
   "nbconvert_exporter": "python",
   "pygments_lexer": "ipython3",
   "version": "3.12.7"
  }
 },
 "nbformat": 4,
 "nbformat_minor": 5
}
