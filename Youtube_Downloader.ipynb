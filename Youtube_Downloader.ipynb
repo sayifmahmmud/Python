{
 "cells": [
  {
   "cell_type": "markdown",
   "id": "246589b4-8010-4c9a-b716-312773db517c",
   "metadata": {},
   "source": [
    "# Doesnt Work"
   ]
  },
  {
   "cell_type": "code",
   "execution_count": null,
   "id": "42916028-fef6-4dcc-8c07-fdfcc7d3fae9",
   "metadata": {},
   "outputs": [],
   "source": [
    "pip install --upgrade pytube\n"
   ]
  },
  {
   "cell_type": "code",
   "execution_count": null,
   "id": "08f1801d-de8e-4fc1-8aa5-74ae81f25df6",
   "metadata": {},
   "outputs": [],
   "source": [
    "from pytube import YouTube"
   ]
  },
  {
   "cell_type": "code",
   "execution_count": null,
   "id": "34dfe074-965e-432d-967f-7ffc1c06c54a",
   "metadata": {},
   "outputs": [],
   "source": [
    "url = 'https://www.youtube.com/watch?v=YL-PoDjR-Ew'\n",
    "yt= YouTube(url)"
   ]
  },
  {
   "cell_type": "code",
   "execution_count": null,
   "id": "c7d6551f-eac0-4ad0-a3ae-b9bf760a4530",
   "metadata": {},
   "outputs": [],
   "source": [
    "stream = yt.streams.get_highest_resolution()"
   ]
  },
  {
   "cell_type": "code",
   "execution_count": null,
   "id": "c1ceb6a6-328f-4615-b1e7-57d89c8d66cb",
   "metadata": {},
   "outputs": [],
   "source": [
    "from pytube import YouTube\n",
    "\n",
    "# Your video URL\n",
    "url = \"https://youtu.be/YL-PoDjR-Ew?si=bz2WmiCpLVyGYZPn\"\n",
    "\n",
    "# Fix signature issue\n",
    "yt = YouTube(url)\n",
    "\n",
    "# Get the highest resolution\n",
    "stream = yt.streams.get_highest_resolution()\n",
    "\n",
    "# Download\n",
    "stream.download()\n",
    "print(\"Download completed!\")\n",
    "\n"
   ]
  },
  {
   "cell_type": "markdown",
   "id": "4d1f2a14-7a94-418e-8ae6-fe63172851ef",
   "metadata": {},
   "source": [
    "# This code works Only"
   ]
  },
  {
   "cell_type": "code",
   "execution_count": 1,
   "id": "b0d9b2a5-4b83-4d38-8103-92f468e171ea",
   "metadata": {},
   "outputs": [
    {
     "name": "stdout",
     "output_type": "stream",
     "text": [
      "Requirement already satisfied: yt-dlp in d:\\anaconda\\lib\\site-packages (2025.1.26)\n",
      "Note: you may need to restart the kernel to use updated packages.\n"
     ]
    }
   ],
   "source": [
    "pip install yt-dlp\n"
   ]
  },
  {
   "cell_type": "code",
   "execution_count": 3,
   "id": "272716d6-1742-4832-865c-bc90e66791f7",
   "metadata": {},
   "outputs": [
    {
     "name": "stdout",
     "output_type": "stream",
     "text": [
      "[youtube] Extracting URL: https://youtu.be/YL-PoDjR-Ew?si=bz2WmiCpLVyGYZPn\n",
      "[youtube] YL-PoDjR-Ew: Downloading webpage\n",
      "[youtube] YL-PoDjR-Ew: Downloading tv client config\n",
      "[youtube] YL-PoDjR-Ew: Downloading player 19d2ae9d\n",
      "[youtube] YL-PoDjR-Ew: Downloading tv player API JSON\n",
      "[youtube] YL-PoDjR-Ew: Downloading ios player API JSON\n",
      "[youtube] YL-PoDjR-Ew: Downloading m3u8 information\n",
      "[info] YL-PoDjR-Ew: Downloading 1 format(s): 18\n",
      "[download] Destination: Nothings\n",
      "[download] 100% of    2.12MiB in 00:00:01 at 1.94MiB/s   \n",
      "Download complete!\n"
     ]
    }
   ],
   "source": [
    "import yt_dlp\n",
    "\n",
    "url = \"https://youtu.be/YL-PoDjR-Ew?si=bz2WmiCpLVyGYZPn\"\n",
    "\n",
    "ydl_opts = {\n",
    "    'format': 'best',\n",
    "    'outtmpl': 'Nothings',  # Save as video title\n",
    "}\n",
    "\n",
    "with yt_dlp.YoutubeDL(ydl_opts) as ydl:\n",
    "    ydl.download([url])\n",
    "\n",
    "print(\"Download complete!\")\n"
   ]
  },
  {
   "cell_type": "code",
   "execution_count": 21,
   "id": "b9446ae8-42a2-4624-907a-d4a602af65ed",
   "metadata": {},
   "outputs": [
    {
     "name": "stdout",
     "output_type": "stream",
     "text": [
      "[youtube] Extracting URL: https://youtu.be/YL-PoDjR-Ew?si=bz2WmiCpLVyGYZPn\n",
      "[youtube] YL-PoDjR-Ew: Downloading webpage\n",
      "[youtube] YL-PoDjR-Ew: Downloading tv client config\n",
      "[youtube] YL-PoDjR-Ew: Downloading player 19d2ae9d\n",
      "[youtube] YL-PoDjR-Ew: Downloading tv player API JSON\n",
      "[youtube] YL-PoDjR-Ew: Downloading ios player API JSON\n",
      "[youtube] YL-PoDjR-Ew: Downloading m3u8 information\n",
      "[info] YL-PoDjR-Ew: Downloading 1 format(s): 136\n",
      "[download] Invincible has already been downloaded\n",
      "[download] 100% of    2.12MiB\n",
      "Download complete!\n"
     ]
    }
   ],
   "source": [
    "import yt_dlp\n",
    "\n",
    "url = \"https://youtu.be/YL-PoDjR-Ew?si=bz2WmiCpLVyGYZPn\"\n",
    "\n",
    "ydl_opts = {\n",
    "    'format': '136',  #downloads in 1080p\n",
    "    'outtmpl': 'Invincible',  # Save as video title\n",
    "}\n",
    "\n",
    "with yt_dlp.YoutubeDL(ydl_opts) as ydl:\n",
    "    ydl.download([url])\n",
    "\n",
    "print(\"Download complete!\")"
   ]
  },
  {
   "cell_type": "code",
   "execution_count": null,
   "id": "6da441f4-59d9-4514-b0d5-c37064db09a8",
   "metadata": {},
   "outputs": [],
   "source": [
    "import yt_dlp\n",
    "\n",
    "url = \"https://youtu.be/YL-PoDjR-Ew?si=bz2WmiCpLVyGYZPn\"\n",
    "\n",
    "ydl_opts = {\n",
    "    'format': 'best',\n",
    "    'outtmpl': 'Invincible',  # Save as video title\n",
    "}\n",
    "\n",
    "with yt_dlp.YoutubeDL(ydl_opts) as ydl:\n",
    "    ydl.download([url])\n",
    "\n",
    "print(\"Download complete!\")"
   ]
  },
  {
   "cell_type": "markdown",
   "id": "80fb20fd-cb24-4445-b692-43e982e70c31",
   "metadata": {},
   "source": [
    "# some formats"
   ]
  },
  {
   "cell_type": "raw",
   "id": "9ed44753-0111-4e70-8e94-1c521ad02ef1",
   "metadata": {},
   "source": [
    "\n",
    "Resolution-\tFormat Code\n",
    "4K (2160p)-\t313+bestaudio\n",
    "1440p (2K)-\t271+bestaudio\n",
    "1080p (Full HD)-\t137+bestaudio\n",
    "720p (HD)-\t136+bestaudio\n",
    "480p-\t135+bestaudio\n",
    "360p-\t134+bestaudio\n",
    "\n",
    "# sometimes merging doesnt work for all videos, then use the first code only(before +)"
   ]
  },
  {
   "cell_type": "code",
   "execution_count": null,
   "id": "0d919258-a0e5-47a3-8249-41957df1da19",
   "metadata": {},
   "outputs": [],
   "source": []
  }
 ],
 "metadata": {
  "kernelspec": {
   "display_name": "Python 3 (ipykernel)",
   "language": "python",
   "name": "python3"
  },
  "language_info": {
   "codemirror_mode": {
    "name": "ipython",
    "version": 3
   },
   "file_extension": ".py",
   "mimetype": "text/x-python",
   "name": "python",
   "nbconvert_exporter": "python",
   "pygments_lexer": "ipython3",
   "version": "3.12.7"
  }
 },
 "nbformat": 4,
 "nbformat_minor": 5
}
