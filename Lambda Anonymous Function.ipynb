{
 "cells": [
  {
   "cell_type": "markdown",
   "id": "de9a92b7-3e72-43d9-aaae-5fd49844bcc3",
   "metadata": {},
   "source": [
    "# Lambda Anonymous Function"
   ]
  },
  {
   "cell_type": "code",
   "execution_count": 2,
   "id": "e4fe36b0-506e-424e-853f-486a9fad8b54",
   "metadata": {},
   "outputs": [
    {
     "data": {
      "text/plain": [
       "9"
      ]
     },
     "execution_count": 2,
     "metadata": {},
     "output_type": "execute_result"
    }
   ],
   "source": [
    "def sums(x,y):\n",
    "    return x+y\n",
    "sums(4,5)"
   ]
  },
  {
   "cell_type": "markdown",
   "id": "825833a0-c887-47ea-9814-e9b561e86161",
   "metadata": {},
   "source": [
    "lambda arguments: expression"
   ]
  },
  {
   "cell_type": "code",
   "execution_count": 5,
   "id": "e7712426-e52e-4699-a100-88608ee9a3c1",
   "metadata": {},
   "outputs": [
    {
     "data": {
      "text/plain": [
       "9"
      ]
     },
     "execution_count": 5,
     "metadata": {},
     "output_type": "execute_result"
    }
   ],
   "source": [
    "f = lambda x,y: x+y\n",
    "f(4,5)"
   ]
  },
  {
   "cell_type": "code",
   "execution_count": 7,
   "id": "34807c8c-6b31-417c-aae9-2834fdac2b01",
   "metadata": {},
   "outputs": [
    {
     "data": {
      "text/plain": [
       "20"
      ]
     },
     "execution_count": 7,
     "metadata": {},
     "output_type": "execute_result"
    }
   ],
   "source": [
    "f = lambda x,y: x*y\n",
    "f(4,5)"
   ]
  },
  {
   "cell_type": "code",
   "execution_count": 9,
   "id": "7c12cc12-44c8-40fe-8e66-b4e099b07801",
   "metadata": {},
   "outputs": [
    {
     "data": {
      "text/plain": [
       "8"
      ]
     },
     "execution_count": 9,
     "metadata": {},
     "output_type": "execute_result"
    }
   ],
   "source": [
    "f = lambda x: x+x\n",
    "f(4)"
   ]
  },
  {
   "cell_type": "markdown",
   "id": "639d4cc9-9934-4480-82e3-916a16a2bda5",
   "metadata": {},
   "source": [
    "# Lambda in higher order"
   ]
  },
  {
   "cell_type": "code",
   "execution_count": 12,
   "id": "5b427de8-cd55-46c4-928c-8455f9afc0f9",
   "metadata": {},
   "outputs": [
    {
     "data": {
      "text/plain": [
       "9"
      ]
     },
     "execution_count": 12,
     "metadata": {},
     "output_type": "execute_result"
    }
   ],
   "source": [
    "def operation_higher(x,y, operation):\n",
    "    return operation(x,y)\n",
    "\n",
    "operation_higher(4,5, lambda x,y: x+y)"
   ]
  },
  {
   "cell_type": "code",
   "execution_count": 14,
   "id": "f6ccf310-c6ec-43f8-bae1-63ec11179957",
   "metadata": {},
   "outputs": [
    {
     "data": {
      "text/plain": [
       "20"
      ]
     },
     "execution_count": 14,
     "metadata": {},
     "output_type": "execute_result"
    }
   ],
   "source": [
    "def operation_higher(x,y, operation):\n",
    "    return operation(x,y)\n",
    "operation_higher(4,5, lambda x,y: x*y)"
   ]
  },
  {
   "cell_type": "markdown",
   "id": "cfe465fa-819f-45cd-80ef-ad75dc43a74b",
   "metadata": {},
   "source": [
    "# Lambda with map(), filter(), reduce()"
   ]
  },
  {
   "cell_type": "markdown",
   "id": "01b9f1e9-ff4f-481f-ad72-a94537d2a7a5",
   "metadata": {},
   "source": [
    "1)map(): when you want to apply a function to each element of an iterable and get a transformed iterable as a result\n",
    "\n",
    "2)filter(): Use filter when you want to selectively include or exclude elements from an iterable based on a condition.\n",
    "\n",
    "3)reduce(): Use reduce when you want to successively apply a binary function to the items of an iterable, reducing it to a single accumulated result."
   ]
  },
  {
   "cell_type": "code",
   "execution_count": 19,
   "id": "23376689-bce9-4858-a0b2-ada0a9a3d68b",
   "metadata": {},
   "outputs": [
    {
     "data": {
      "text/plain": [
       "[1, 2, 4, 5, 7, 10]"
      ]
     },
     "execution_count": 19,
     "metadata": {},
     "output_type": "execute_result"
    }
   ],
   "source": [
    "num = [1,2,4,5,7,10]\n",
    "num"
   ]
  },
  {
   "cell_type": "code",
   "execution_count": 21,
   "id": "4a723c7a-8d95-4531-86e6-99800484b841",
   "metadata": {},
   "outputs": [
    {
     "data": {
      "text/plain": [
       "[1, 4, 16, 25, 49, 100]"
      ]
     },
     "execution_count": 21,
     "metadata": {},
     "output_type": "execute_result"
    }
   ],
   "source": [
    "#map(function, iteable object)\n",
    "num = list(map(lambda x:x**2, num))\n",
    "num"
   ]
  },
  {
   "cell_type": "code",
   "execution_count": 23,
   "id": "9c9ad626-7ad9-4438-9452-989fd4e58668",
   "metadata": {},
   "outputs": [
    {
     "data": {
      "text/plain": [
       "[1, 25, 49]"
      ]
     },
     "execution_count": 23,
     "metadata": {},
     "output_type": "execute_result"
    }
   ],
   "source": [
    "#filter(function, iteable object)\n",
    "num = list(filter(lambda num: num%2==1, num))\n",
    "num"
   ]
  },
  {
   "cell_type": "code",
   "execution_count": 25,
   "id": "287ce299-10d2-45e1-91f3-e10efe33f876",
   "metadata": {},
   "outputs": [
    {
     "data": {
      "text/plain": [
       "75"
      ]
     },
     "execution_count": 25,
     "metadata": {},
     "output_type": "execute_result"
    }
   ],
   "source": [
    "from functools import reduce\n",
    "reduce(lambda a,b:a+b , num)"
   ]
  },
  {
   "cell_type": "code",
   "execution_count": 27,
   "id": "f0bd0343-77dd-4c75-b1f7-839204d6c06f",
   "metadata": {},
   "outputs": [
    {
     "data": {
      "text/plain": [
       "75"
      ]
     },
     "execution_count": 27,
     "metadata": {},
     "output_type": "execute_result"
    }
   ],
   "source": [
    "sum(num)"
   ]
  },
  {
   "cell_type": "code",
   "execution_count": null,
   "id": "e121f5ae-b382-45bb-89d5-8a991483e8c6",
   "metadata": {},
   "outputs": [],
   "source": []
  }
 ],
 "metadata": {
  "kernelspec": {
   "display_name": "Python 3 (ipykernel)",
   "language": "python",
   "name": "python3"
  },
  "language_info": {
   "codemirror_mode": {
    "name": "ipython",
    "version": 3
   },
   "file_extension": ".py",
   "mimetype": "text/x-python",
   "name": "python",
   "nbconvert_exporter": "python",
   "pygments_lexer": "ipython3",
   "version": "3.12.7"
  }
 },
 "nbformat": 4,
 "nbformat_minor": 5
}
