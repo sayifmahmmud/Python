{
 "cells": [
  {
   "cell_type": "markdown",
   "id": "bd556475-f616-4ef5-b132-b7c751b1d7b2",
   "metadata": {},
   "source": [
    "# Parameters vs Argument"
   ]
  },
  {
   "cell_type": "code",
   "execution_count": 2,
   "id": "ba2a20fd-d63a-44ae-9757-c84582ad1fb0",
   "metadata": {},
   "outputs": [
    {
     "data": {
      "text/plain": [
       "40"
      ]
     },
     "execution_count": 2,
     "metadata": {},
     "output_type": "execute_result"
    }
   ],
   "source": [
    "def add_num(x,y):\n",
    "    result = x+y\n",
    "    return result\n",
    "add_num(10, 30)"
   ]
  },
  {
   "cell_type": "raw",
   "id": "a0bb4afe-d92a-41f8-871c-cb1d4311a45e",
   "metadata": {},
   "source": [
    "1)positional argument\n",
    "2)keyword argument\n",
    "3)default argument\n",
    "4)variable length argument"
   ]
  },
  {
   "cell_type": "markdown",
   "id": "f59bae69-52c5-451d-97a4-dd7ca7fb8b41",
   "metadata": {},
   "source": [
    "# Positional Argument"
   ]
  },
  {
   "cell_type": "code",
   "execution_count": 9,
   "id": "751bca51-bafa-43fe-9d23-963277f7768c",
   "metadata": {},
   "outputs": [
    {
     "data": {
      "text/plain": [
       "40"
      ]
     },
     "execution_count": 9,
     "metadata": {},
     "output_type": "execute_result"
    }
   ],
   "source": [
    "def add_num(x,y):\n",
    "    result = x+y\n",
    "    return result\n",
    "add_num(10, 30)"
   ]
  },
  {
   "cell_type": "markdown",
   "id": "0f4bd6bf-2111-4e71-a556-d1923fb92a68",
   "metadata": {},
   "source": [
    "# Keyword Argument"
   ]
  },
  {
   "cell_type": "code",
   "execution_count": 24,
   "id": "fa819ca8-7fc8-4251-81b2-5e9a32f7f203",
   "metadata": {},
   "outputs": [
    {
     "name": "stdout",
     "output_type": "stream",
     "text": [
      "job =  data scientist\n",
      "income = 200000\n"
     ]
    }
   ],
   "source": [
    "def personal(job, income):\n",
    "    print('job = ',job)\n",
    "    print('income =' ,income)\n",
    "personal(income=200000, job='data scientist')"
   ]
  },
  {
   "cell_type": "markdown",
   "id": "f14861c4-a2b9-4a1e-9c04-fac60051cbdd",
   "metadata": {},
   "source": [
    "# Default Argument"
   ]
  },
  {
   "cell_type": "code",
   "execution_count": 18,
   "id": "d25cb4d1-6c05-4866-8454-ee3799821168",
   "metadata": {},
   "outputs": [
    {
     "name": "stdout",
     "output_type": "stream",
     "text": [
      "job =  DATA SCIENTIST\n",
      "income = 200000\n"
     ]
    }
   ],
   "source": [
    "def personal(job, income=10000):\n",
    "    print('job = ',job)\n",
    "    \n",
    "    print('income =' ,income)\n",
    "personal('DATA SCIENTIST', 200000)"
   ]
  },
  {
   "cell_type": "markdown",
   "id": "86da229f-925f-4a94-be16-cc08681bc72d",
   "metadata": {},
   "source": [
    "# Variable Length Argument"
   ]
  },
  {
   "cell_type": "code",
   "execution_count": 20,
   "id": "11145d64-79e3-484a-8fc2-78cec3aba9e8",
   "metadata": {},
   "outputs": [
    {
     "name": "stdout",
     "output_type": "stream",
     "text": [
      "(10, 30, 10, 1000, 4000)\n"
     ]
    },
    {
     "data": {
      "text/plain": [
       "5050"
      ]
     },
     "execution_count": 20,
     "metadata": {},
     "output_type": "execute_result"
    }
   ],
   "source": [
    "def add_num(*x):   #for * it will recv as tuple\n",
    "    print(x)\n",
    "    result = sum(x)\n",
    "    return result\n",
    "    \n",
    "add_num(10, 30, 10, 1000,4000)"
   ]
  },
  {
   "cell_type": "code",
   "execution_count": 22,
   "id": "ec1bc8d1-1744-4c27-bb4b-b35485220a60",
   "metadata": {},
   "outputs": [
    {
     "name": "stdout",
     "output_type": "stream",
     "text": [
      "10\n",
      "(30, 10, 1000, 4000)\n"
     ]
    }
   ],
   "source": [
    "def add_num(x, *y):\n",
    "    print(x)\n",
    "    print(y)\n",
    "    \n",
    "add_num(10, 30, 10, 1000,4000)"
   ]
  },
  {
   "cell_type": "markdown",
   "id": "867ab3ee-eff5-414e-b03e-c8039a735b63",
   "metadata": {},
   "source": [
    "# *args and **kwargs"
   ]
  },
  {
   "cell_type": "code",
   "execution_count": 27,
   "id": "9b6c2e2c-0675-488e-9ef8-b2232e17ee06",
   "metadata": {},
   "outputs": [
    {
     "name": "stdout",
     "output_type": "stream",
     "text": [
      "Rashedul Alam Shakil\n",
      "('FAU', 'Erlangen')\n",
      "<class 'tuple'>\n"
     ]
    }
   ],
   "source": [
    "def personal_data(name, *arg):\n",
    "    print(name)\n",
    "    print(arg)\n",
    "    print(type(arg))\n",
    "\n",
    "personal_data('Rashedul Alam Shakil', 'FAU','Erlangen')"
   ]
  },
  {
   "cell_type": "code",
   "execution_count": 31,
   "id": "fd2257cb-4165-4c09-ba2f-583a75631fac",
   "metadata": {},
   "outputs": [
    {
     "name": "stdout",
     "output_type": "stream",
     "text": [
      "Rashedul Alam Shakil\n",
      "{'vrsity': 'FAU', 'city': 'Erlangen'}\n",
      "<class 'dict'>\n"
     ]
    }
   ],
   "source": [
    "def personal_data(name, **arg):   #for ** item will rcv as dict\n",
    "    print(name)\n",
    "    print(arg)\n",
    "    print(type(arg))\n",
    "personal_data('Rashedul Alam Shakil', vrsity = 'FAU', city = 'Erlangen')"
   ]
  },
  {
   "cell_type": "code",
   "execution_count": null,
   "id": "9e5ade44-4494-443a-884c-6155c8898226",
   "metadata": {},
   "outputs": [],
   "source": []
  }
 ],
 "metadata": {
  "kernelspec": {
   "display_name": "Python 3 (ipykernel)",
   "language": "python",
   "name": "python3"
  },
  "language_info": {
   "codemirror_mode": {
    "name": "ipython",
    "version": 3
   },
   "file_extension": ".py",
   "mimetype": "text/x-python",
   "name": "python",
   "nbconvert_exporter": "python",
   "pygments_lexer": "ipython3",
   "version": "3.12.7"
  }
 },
 "nbformat": 4,
 "nbformat_minor": 5
}
