{
 "cells": [
  {
   "cell_type": "markdown",
   "id": "6f185122-97e9-4eaa-9be8-3fc7da068b9a",
   "metadata": {},
   "source": [
    "Listtt"
   ]
  },
  {
   "cell_type": "code",
   "execution_count": 1,
   "id": "ce94a722-a156-40fa-9e9b-062cf0471da4",
   "metadata": {},
   "outputs": [],
   "source": [
    "L1=[3,5,7,2,8]"
   ]
  },
  {
   "cell_type": "code",
   "execution_count": 3,
   "id": "4ce16697-7efa-40f6-aafa-b676f32d90f6",
   "metadata": {},
   "outputs": [
    {
     "data": {
      "text/plain": [
       "list"
      ]
     },
     "execution_count": 3,
     "metadata": {},
     "output_type": "execute_result"
    }
   ],
   "source": [
    "type(L1)"
   ]
  },
  {
   "cell_type": "code",
   "execution_count": 5,
   "id": "b18a2213-7d23-48cc-84a9-9abc48db2bd2",
   "metadata": {},
   "outputs": [
    {
     "data": {
      "text/plain": [
       "5"
      ]
     },
     "execution_count": 5,
     "metadata": {},
     "output_type": "execute_result"
    }
   ],
   "source": [
    "L1[1]"
   ]
  },
  {
   "cell_type": "code",
   "execution_count": 7,
   "id": "896ab7ea-b61e-4599-81ee-a44d68af3173",
   "metadata": {},
   "outputs": [],
   "source": [
    "L1[0]='Sayif Sama'"
   ]
  },
  {
   "cell_type": "code",
   "execution_count": 9,
   "id": "271784c3-ee05-488c-a514-38e989bd919c",
   "metadata": {},
   "outputs": [
    {
     "data": {
      "text/plain": [
       "['Sayif Sama', 5, 7, 2, 8]"
      ]
     },
     "execution_count": 9,
     "metadata": {},
     "output_type": "execute_result"
    }
   ],
   "source": [
    "L1  #list is changeable"
   ]
  },
  {
   "cell_type": "code",
   "execution_count": 11,
   "id": "b44e8453-8edb-4e46-ab49-9f1aa1f3eaf6",
   "metadata": {},
   "outputs": [],
   "source": [
    "L1.append('Hellow')"
   ]
  },
  {
   "cell_type": "code",
   "execution_count": 13,
   "id": "9f6e53c3-ac51-4c96-943a-75adc4358de6",
   "metadata": {},
   "outputs": [
    {
     "data": {
      "text/plain": [
       "['Sayif Sama', 5, 7, 2, 8, 'Hellow']"
      ]
     },
     "execution_count": 13,
     "metadata": {},
     "output_type": "execute_result"
    }
   ],
   "source": [
    "L1  #new value addable"
   ]
  },
  {
   "cell_type": "code",
   "execution_count": 15,
   "id": "01462e8d-32cc-436d-911f-c13c758ca5b0",
   "metadata": {},
   "outputs": [
    {
     "data": {
      "text/plain": [
       "'Hellow'"
      ]
     },
     "execution_count": 15,
     "metadata": {},
     "output_type": "execute_result"
    }
   ],
   "source": [
    "L1.pop()   #delets the last item"
   ]
  },
  {
   "cell_type": "code",
   "execution_count": 17,
   "id": "a4542dcd-d451-4670-aec3-c76b7526d304",
   "metadata": {},
   "outputs": [
    {
     "data": {
      "text/plain": [
       "['Sayif Sama', 5, 7, 2, 8]"
      ]
     },
     "execution_count": 17,
     "metadata": {},
     "output_type": "execute_result"
    }
   ],
   "source": [
    "L1"
   ]
  },
  {
   "cell_type": "code",
   "execution_count": 19,
   "id": "12cfb25f-deee-4136-92c4-6b59fa79aa06",
   "metadata": {},
   "outputs": [
    {
     "data": {
      "text/plain": [
       "5"
      ]
     },
     "execution_count": 19,
     "metadata": {},
     "output_type": "execute_result"
    }
   ],
   "source": [
    "L1.pop(1)  #delets the second items now"
   ]
  },
  {
   "cell_type": "code",
   "execution_count": 21,
   "id": "09afb782-780b-4584-8369-4585ae058ef9",
   "metadata": {},
   "outputs": [
    {
     "data": {
      "text/plain": [
       "['Sayif Sama', 7, 2, 8]"
      ]
     },
     "execution_count": 21,
     "metadata": {},
     "output_type": "execute_result"
    }
   ],
   "source": [
    "L1"
   ]
  },
  {
   "cell_type": "code",
   "execution_count": 25,
   "id": "ed223f49-2b9f-4bc0-955e-b2077670f2b7",
   "metadata": {},
   "outputs": [],
   "source": [
    "#Creating list using list constructor\n",
    "\n",
    "L2=list(('Sayif',3,5,(6,8,9)))"
   ]
  },
  {
   "cell_type": "code",
   "execution_count": 27,
   "id": "dac00349-f04b-4dd5-ad84-e7a14a9122a0",
   "metadata": {},
   "outputs": [
    {
     "data": {
      "text/plain": [
       "list"
      ]
     },
     "execution_count": 27,
     "metadata": {},
     "output_type": "execute_result"
    }
   ],
   "source": [
    "type(L2)"
   ]
  },
  {
   "cell_type": "code",
   "execution_count": 29,
   "id": "0ce02c51-8ca6-42a6-a39f-aaa8b3c15816",
   "metadata": {},
   "outputs": [
    {
     "data": {
      "text/plain": [
       "8"
      ]
     },
     "execution_count": 29,
     "metadata": {},
     "output_type": "execute_result"
    }
   ],
   "source": [
    "L2[3][1]"
   ]
  },
  {
   "cell_type": "code",
   "execution_count": 41,
   "id": "43ec1612-90c9-493f-a16f-729a52f4ef11",
   "metadata": {},
   "outputs": [
    {
     "name": "stdin",
     "output_type": "stream",
     "text": [
      "Enter your total number of list: 3\n",
      "Enter your list: 2\n"
     ]
    },
    {
     "name": "stdout",
     "output_type": "stream",
     "text": [
      "['2']\n"
     ]
    },
    {
     "name": "stdin",
     "output_type": "stream",
     "text": [
      "Enter your list: 3\n"
     ]
    },
    {
     "name": "stdout",
     "output_type": "stream",
     "text": [
      "['2', '3']\n"
     ]
    },
    {
     "name": "stdin",
     "output_type": "stream",
     "text": [
      "Enter your list: 5\n"
     ]
    },
    {
     "name": "stdout",
     "output_type": "stream",
     "text": [
      "['2', '3', '5']\n",
      "\n",
      " Your list: ['2', '3', '5']\n"
     ]
    }
   ],
   "source": [
    "#input list from userr\n",
    "L3=[]\n",
    "n=int(input('Enter your total number of list:'))\n",
    "\n",
    "for i in range(n):\n",
    "    new=input('Enter your list:')\n",
    "    L3.append(new)\n",
    "    print(L3)\n",
    "\n",
    "print('\\n','Your list:',L3)"
   ]
  },
  {
   "cell_type": "code",
   "execution_count": 43,
   "id": "5e264993-c330-4eea-8f74-f014dcd5c5ce",
   "metadata": {},
   "outputs": [],
   "source": [
    "L4=[5,8,2,3,9,1,]"
   ]
  },
  {
   "cell_type": "code",
   "execution_count": 49,
   "id": "274a9fac-17f9-4232-a37d-dc02f1c088d3",
   "metadata": {},
   "outputs": [
    {
     "name": "stdout",
     "output_type": "stream",
     "text": [
      "[1, 2, 3, 5, 8, 9]\n"
     ]
    }
   ],
   "source": [
    "L4.sort()  #sort the list in ascending order\n",
    "print(L4)"
   ]
  },
  {
   "cell_type": "code",
   "execution_count": 51,
   "id": "fe63f968-8c58-4238-8d74-abc948ecaa71",
   "metadata": {},
   "outputs": [
    {
     "name": "stdout",
     "output_type": "stream",
     "text": [
      "[9, 8, 5, 3, 2, 1]\n"
     ]
    }
   ],
   "source": [
    "L4.reverse()  #reverse the order\n",
    "print(L4)"
   ]
  },
  {
   "cell_type": "code",
   "execution_count": 73,
   "id": "c2e021d5-49a2-4bcf-8a86-6bd931211c9b",
   "metadata": {},
   "outputs": [
    {
     "ename": "ValueError",
     "evalue": "list.remove(x): x not in list",
     "output_type": "error",
     "traceback": [
      "\u001b[1;31m---------------------------------------------------------------------------\u001b[0m",
      "\u001b[1;31mValueError\u001b[0m                                Traceback (most recent call last)",
      "Cell \u001b[1;32mIn[73], line 1\u001b[0m\n\u001b[1;32m----> 1\u001b[0m L4\u001b[38;5;241m.\u001b[39mremove(\u001b[38;5;241m9\u001b[39m)\n",
      "\u001b[1;31mValueError\u001b[0m: list.remove(x): x not in list"
     ]
    }
   ],
   "source": [
    "L4.remove(9)  #removes the element from the list\n"
   ]
  },
  {
   "cell_type": "code",
   "execution_count": 69,
   "id": "975f4751-a4f8-4b18-a975-085c2b5a8051",
   "metadata": {},
   "outputs": [],
   "source": [
    "L4.clear()  #clears all the element from the list"
   ]
  },
  {
   "cell_type": "code",
   "execution_count": 71,
   "id": "c33eeea8-e5c8-45e7-8174-54d669152302",
   "metadata": {},
   "outputs": [
    {
     "data": {
      "text/plain": [
       "[]"
      ]
     },
     "execution_count": 71,
     "metadata": {},
     "output_type": "execute_result"
    }
   ],
   "source": [
    "L4"
   ]
  },
  {
   "cell_type": "code",
   "execution_count": 75,
   "id": "bceb2dd0-828a-45af-b263-10cdfe5c2650",
   "metadata": {},
   "outputs": [
    {
     "name": "stdout",
     "output_type": "stream",
     "text": [
      "[0, 1, 4, 9, 16, 25, 36, 49, 64, 81]\n"
     ]
    }
   ],
   "source": [
    "squares=[x**2 for x in range(10)]\n",
    "print(squares)"
   ]
  },
  {
   "cell_type": "code",
   "execution_count": null,
   "id": "07845200-85e9-47d5-98bb-68f3055039d0",
   "metadata": {},
   "outputs": [],
   "source": []
  }
 ],
 "metadata": {
  "kernelspec": {
   "display_name": "Python 3 (ipykernel)",
   "language": "python",
   "name": "python3"
  },
  "language_info": {
   "codemirror_mode": {
    "name": "ipython",
    "version": 3
   },
   "file_extension": ".py",
   "mimetype": "text/x-python",
   "name": "python",
   "nbconvert_exporter": "python",
   "pygments_lexer": "ipython3",
   "version": "3.12.7"
  }
 },
 "nbformat": 4,
 "nbformat_minor": 5
}
