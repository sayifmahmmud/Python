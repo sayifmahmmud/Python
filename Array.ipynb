{
 "cells": [
  {
   "cell_type": "markdown",
   "id": "613245ea-2c5e-463f-8170-90f945d604cd",
   "metadata": {},
   "source": [
    "# Array"
   ]
  },
  {
   "cell_type": "code",
   "execution_count": 2,
   "id": "173dd7fe-f74b-46f2-8505-de5d8a84570d",
   "metadata": {},
   "outputs": [],
   "source": [
    "import array as ar"
   ]
  },
  {
   "cell_type": "code",
   "execution_count": 18,
   "id": "ce1ca954-c611-4dc6-9c64-b5f487e01f5b",
   "metadata": {},
   "outputs": [],
   "source": [
    "ar1= ar.array('i',[1,3,5,6,7])  #array must contain items of same data type"
   ]
  },
  {
   "cell_type": "code",
   "execution_count": 20,
   "id": "0ff31ad5-d561-4ec1-a5b8-c9fcc36f191d",
   "metadata": {},
   "outputs": [
    {
     "data": {
      "text/plain": [
       "array('i', [1, 3, 5, 6, 7])"
      ]
     },
     "execution_count": 20,
     "metadata": {},
     "output_type": "execute_result"
    }
   ],
   "source": [
    "ar1"
   ]
  },
  {
   "cell_type": "code",
   "execution_count": 22,
   "id": "fe005cd4-dbe1-4a9a-9cf8-996029bfea75",
   "metadata": {},
   "outputs": [
    {
     "data": {
      "text/plain": [
       "array.array"
      ]
     },
     "execution_count": 22,
     "metadata": {},
     "output_type": "execute_result"
    }
   ],
   "source": [
    "type(ar1)"
   ]
  },
  {
   "cell_type": "code",
   "execution_count": 24,
   "id": "2bec3f87-c07a-45aa-ad84-7c199d097ebd",
   "metadata": {},
   "outputs": [
    {
     "data": {
      "text/plain": [
       "1"
      ]
     },
     "execution_count": 24,
     "metadata": {},
     "output_type": "execute_result"
    }
   ],
   "source": [
    "ar1[0]"
   ]
  },
  {
   "cell_type": "code",
   "execution_count": 30,
   "id": "831e31db-150d-4133-b855-40b4ea760873",
   "metadata": {},
   "outputs": [],
   "source": [
    "ar1[0]= 9  #array index are similar to list"
   ]
  },
  {
   "cell_type": "code",
   "execution_count": 32,
   "id": "01f5a021-02fb-4980-a33e-07b928589357",
   "metadata": {},
   "outputs": [
    {
     "data": {
      "text/plain": [
       "array('i', [9, 3, 5, 6, 7])"
      ]
     },
     "execution_count": 32,
     "metadata": {},
     "output_type": "execute_result"
    }
   ],
   "source": [
    "ar1"
   ]
  },
  {
   "cell_type": "code",
   "execution_count": 34,
   "id": "bd4be217-de2d-4145-a4b7-ce183e60a29d",
   "metadata": {},
   "outputs": [],
   "source": [
    "ar1.append(8)"
   ]
  },
  {
   "cell_type": "code",
   "execution_count": 36,
   "id": "bd4dce50-19d1-4794-a526-efdae2ec25ee",
   "metadata": {},
   "outputs": [
    {
     "data": {
      "text/plain": [
       "array('i', [9, 3, 5, 6, 7, 8])"
      ]
     },
     "execution_count": 36,
     "metadata": {},
     "output_type": "execute_result"
    }
   ],
   "source": [
    "ar1"
   ]
  },
  {
   "cell_type": "code",
   "execution_count": 38,
   "id": "36ffdc83-739a-467c-a667-41daf46aa120",
   "metadata": {},
   "outputs": [],
   "source": [
    "del ar1[-1]"
   ]
  },
  {
   "cell_type": "code",
   "execution_count": 40,
   "id": "1abfeb54-c944-4fcf-b649-bd46f02d6880",
   "metadata": {},
   "outputs": [
    {
     "data": {
      "text/plain": [
       "array('i', [9, 3, 5, 6, 7])"
      ]
     },
     "execution_count": 40,
     "metadata": {},
     "output_type": "execute_result"
    }
   ],
   "source": [
    "ar1"
   ]
  },
  {
   "cell_type": "code",
   "execution_count": 44,
   "id": "c7bb4ae8-9cb5-47d3-88b1-56165d218cff",
   "metadata": {},
   "outputs": [
    {
     "data": {
      "text/plain": [
       "5"
      ]
     },
     "execution_count": 44,
     "metadata": {},
     "output_type": "execute_result"
    }
   ],
   "source": [
    "len(ar1)"
   ]
  },
  {
   "cell_type": "code",
   "execution_count": 46,
   "id": "6c4633eb-d920-4d80-89a2-c13969fe8de4",
   "metadata": {},
   "outputs": [],
   "source": [
    "ar1.reverse()"
   ]
  },
  {
   "cell_type": "code",
   "execution_count": 48,
   "id": "ece29bf7-3549-42fe-a14b-1bd9a3710dd1",
   "metadata": {},
   "outputs": [
    {
     "data": {
      "text/plain": [
       "array('i', [7, 6, 5, 3, 9])"
      ]
     },
     "execution_count": 48,
     "metadata": {},
     "output_type": "execute_result"
    }
   ],
   "source": [
    "ar1"
   ]
  },
  {
   "cell_type": "code",
   "execution_count": 56,
   "id": "5d3fca26-bf2e-4f47-98af-74a1f1c34d4b",
   "metadata": {},
   "outputs": [
    {
     "data": {
      "text/plain": [
       "6"
      ]
     },
     "execution_count": 56,
     "metadata": {},
     "output_type": "execute_result"
    }
   ],
   "source": [
    "ar1.pop(0)  # 0 is index number"
   ]
  },
  {
   "cell_type": "code",
   "execution_count": 58,
   "id": "6b758009-6f3b-45e3-a9a7-c939fe00ea71",
   "metadata": {},
   "outputs": [
    {
     "data": {
      "text/plain": [
       "array('i', [5, 3, 9])"
      ]
     },
     "execution_count": 58,
     "metadata": {},
     "output_type": "execute_result"
    }
   ],
   "source": [
    "ar1"
   ]
  },
  {
   "cell_type": "code",
   "execution_count": 62,
   "id": "82747be6-2032-458b-b2f4-8e90469c2528",
   "metadata": {},
   "outputs": [],
   "source": [
    "ar1.remove(3)"
   ]
  },
  {
   "cell_type": "code",
   "execution_count": 64,
   "id": "45746560-0008-4a3d-b91e-fa63c7b22ca9",
   "metadata": {},
   "outputs": [
    {
     "data": {
      "text/plain": [
       "array('i', [5, 9])"
      ]
     },
     "execution_count": 64,
     "metadata": {},
     "output_type": "execute_result"
    }
   ],
   "source": [
    "ar1"
   ]
  },
  {
   "cell_type": "code",
   "execution_count": 72,
   "id": "edc81625-c769-4ba6-9c31-6fea45ff40f7",
   "metadata": {},
   "outputs": [
    {
     "name": "stdin",
     "output_type": "stream",
     "text": [
      "Enter total numbers of array you want 3\n",
      "Enter your array values 2\n",
      "Enter your array values 1\n",
      "Enter your array values 4\n"
     ]
    },
    {
     "name": "stdout",
     "output_type": "stream",
     "text": [
      "array('i', [2, 1, 4])\n"
     ]
    }
   ],
   "source": [
    "r= ar.array('i',[])\n",
    "items=int(input('Enter total numbers of array you want'))\n",
    "\n",
    "for i in range(items):\n",
    "    value= int(input('Enter your array values'))\n",
    "    r.append(value)\n",
    "\n",
    "print(r)"
   ]
  },
  {
   "cell_type": "code",
   "execution_count": null,
   "id": "64f61a6b-511e-4328-ac00-549d45367826",
   "metadata": {},
   "outputs": [],
   "source": []
  }
 ],
 "metadata": {
  "kernelspec": {
   "display_name": "Python 3 (ipykernel)",
   "language": "python",
   "name": "python3"
  },
  "language_info": {
   "codemirror_mode": {
    "name": "ipython",
    "version": 3
   },
   "file_extension": ".py",
   "mimetype": "text/x-python",
   "name": "python",
   "nbconvert_exporter": "python",
   "pygments_lexer": "ipython3",
   "version": "3.12.7"
  }
 },
 "nbformat": 4,
 "nbformat_minor": 5
}
