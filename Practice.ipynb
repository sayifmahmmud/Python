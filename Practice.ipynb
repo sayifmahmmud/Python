{
 "cells": [
  {
   "cell_type": "markdown",
   "id": "0db88b5b-3323-43c9-b041-e730aa66ec9e",
   "metadata": {},
   "source": [
    "Practice"
   ]
  },
  {
   "cell_type": "code",
   "execution_count": null,
   "id": "3d3fd4cb-f88b-419c-86f2-a8c6f6279a74",
   "metadata": {},
   "outputs": [],
   "source": [
    "x='hellow world'"
   ]
  },
  {
   "cell_type": "code",
   "execution_count": null,
   "id": "b3b7c275-e91e-4fef-8117-f5adb3c5d488",
   "metadata": {},
   "outputs": [],
   "source": [
    "x"
   ]
  },
  {
   "cell_type": "code",
   "execution_count": null,
   "id": "784941f2-2dc3-4fd9-886b-ddc730a10b6a",
   "metadata": {},
   "outputs": [],
   "source": [
    "5+6"
   ]
  },
  {
   "cell_type": "code",
   "execution_count": null,
   "id": "32591e77-efd9-4939-b235-3b96000408d6",
   "metadata": {},
   "outputs": [],
   "source": [
    "area=8\n",
    "berea=3"
   ]
  },
  {
   "cell_type": "code",
   "execution_count": null,
   "id": "3efbb8ee-4365-4df3-9443-13c1e2ad13f7",
   "metadata": {},
   "outputs": [],
   "source": [
    "area*berea"
   ]
  },
  {
   "cell_type": "code",
   "execution_count": null,
   "id": "8ace63cb-524c-4557-9928-78a94d5fab54",
   "metadata": {},
   "outputs": [],
   "source": [
    "a**b"
   ]
  },
  {
   "cell_type": "code",
   "execution_count": null,
   "id": "5305b27c-ac36-4298-b50c-b72b06a33afd",
   "metadata": {},
   "outputs": [],
   "source": [
    "a/b"
   ]
  },
  {
   "cell_type": "code",
   "execution_count": null,
   "id": "d50a26c6-871b-448b-ba3b-0672a8b1e3d4",
   "metadata": {},
   "outputs": [],
   "source": [
    "a//b"
   ]
  },
  {
   "cell_type": "code",
   "execution_count": null,
   "id": "358e1a52-e40b-4925-ba03-457a6bdfecda",
   "metadata": {},
   "outputs": [],
   "source": [
    "import math\n",
    "math.floor(a/b)"
   ]
  },
  {
   "cell_type": "code",
   "execution_count": null,
   "id": "0f47283c-3a68-4b85-b1bc-cfb0ef8d035b",
   "metadata": {},
   "outputs": [],
   "source": [
    "math.ceil(a/b)"
   ]
  },
  {
   "cell_type": "code",
   "execution_count": null,
   "id": "991cdf30-d8a3-4a3a-bba3-6af35edfb33a",
   "metadata": {},
   "outputs": [],
   "source": []
  },
  {
   "cell_type": "code",
   "execution_count": 7,
   "id": "8bbbc2dd-a4d6-429a-a6cf-fbc47a622fc1",
   "metadata": {},
   "outputs": [
    {
     "name": "stdin",
     "output_type": "stream",
     "text": [
      "Enter the length of the rectangle:  5\n",
      "Enter the breadth of the rectangle:  6\n"
     ]
    },
    {
     "name": "stdout",
     "output_type": "stream",
     "text": [
      "The area of the rectangle is: 30.0\n"
     ]
    }
   ],
   "source": [
    "# Take input from the user for length and breadth\n",
    "length = float(input(\"Enter the length of the rectangle: \"))\n",
    "breadth = float(input(\"Enter the breadth of the rectangle: \"))\n",
    "\n",
    "# Calculate the area\n",
    "area = length * breadth\n",
    "\n",
    "# Print the result\n",
    "print(f\"The area of the rectangle is: {area}\")\n",
    "\n"
   ]
  },
  {
   "cell_type": "code",
   "execution_count": null,
   "id": "c3c8da46-bdd3-4d33-b4c7-87966ac1a0fb",
   "metadata": {},
   "outputs": [],
   "source": [
    "a=5\n",
    "b=8\n",
    "result=a*b\n",
    "print(result)"
   ]
  },
  {
   "cell_type": "code",
   "execution_count": 39,
   "id": "8a1bffea-2f9a-44d1-8558-981320570b3b",
   "metadata": {},
   "outputs": [
    {
     "name": "stdin",
     "output_type": "stream",
     "text": [
      "Enter the length of the rectangle:  5\n",
      "Enter the breadth of the rectangle:  5\n"
     ]
    },
    {
     "name": "stdout",
     "output_type": "stream",
     "text": [
      "The area is 25\n"
     ]
    }
   ],
   "source": [
    "# Take input from the user for length and breadth\n",
    "length = int(input(\"Enter the length of the rectangle: \"))\n",
    "breadth = int(input(\"Enter the breadth of the rectangle: \"))\n",
    "\n",
    "# Calculate the area\n",
    "area = length * breadth\n",
    "\n",
    "# Print the result\n",
    "print('The area is',(area))\n",
    "\n",
    "if square_root:\n",
    "    "
   ]
  },
  {
   "cell_type": "code",
   "execution_count": 41,
   "id": "3b67ee6a-bcfd-4fa8-a2a1-27e0d67d0f56",
   "metadata": {},
   "outputs": [
    {
     "name": "stdout",
     "output_type": "stream",
     "text": [
      "The area 25 is a perfect square, and its square root is 5.\n"
     ]
    }
   ],
   "source": [
    "import math\n",
    "\n",
    "square_root = math.sqrt(area)\n",
    "if square_root.is_integer():\n",
    "    print(f\"The area {area} is a perfect square, and its square root is {int(square_root)}.\")\n",
    "else:\n",
    "    print(f\"The area {area} is not a perfect square.\")"
   ]
  },
  {
   "cell_type": "code",
   "execution_count": 43,
   "id": "df59754b-1aa8-483e-bb56-f8bd2f624780",
   "metadata": {},
   "outputs": [
    {
     "name": "stdout",
     "output_type": "stream",
     "text": [
      "6.0\n"
     ]
    }
   ],
   "source": [
    "x=36\n",
    "root=math.sqrt(x)\n",
    "print(root)"
   ]
  },
  {
   "cell_type": "code",
   "execution_count": 107,
   "id": "dd8feb1d-828d-469c-8cc5-c3c93d4c8389",
   "metadata": {},
   "outputs": [
    {
     "name": "stdin",
     "output_type": "stream",
     "text": [
      "enter the marks of the student: 70\n"
     ]
    },
    {
     "name": "stdout",
     "output_type": "stream",
     "text": [
      "The result is: A-\n"
     ]
    }
   ],
   "source": [
    "marks=float(input('enter the marks of the student:'))\n",
    "\n",
    "if marks >= 90:\n",
    "    print('The result is: A+')\n",
    "\n",
    "elif marks in range(80,89):\n",
    "    print('The result is: A')\n",
    "\n",
    "elif marks in range(70,79):\n",
    "    print('The result is: A-')\n",
    "\n",
    "elif marks in range(60,69):\n",
    "    print('The result is: B+')\n",
    "\n",
    "elif marks in range(50,59):\n",
    "    print('The result is: B')\n",
    "\n",
    "elif marks in range(40,49):\n",
    "    print('The result is: B-')\n",
    "\n",
    "elif marks in range(30,39):\n",
    "    print('The result is: C')\n",
    "\n",
    "else:\n",
    "    print('The result is: fail')\n",
    "\n",
    "\n"
   ]
  },
  {
   "cell_type": "code",
   "execution_count": 169,
   "id": "66def472-9f85-49b6-b18f-31cf37470150",
   "metadata": {},
   "outputs": [
    {
     "data": {
      "text/plain": [
       "(<IPython.core.display.Image object>,)"
      ]
     },
     "execution_count": 169,
     "metadata": {},
     "output_type": "execute_result"
    }
   ],
   "source": [
    "from IPython.display import Image\n",
    "Image('sayif-cv.png')"
   ]
  },
  {
   "cell_type": "code",
   "execution_count": 167,
   "id": "2bd968fa-5505-4334-b393-0564f69a6d87",
   "metadata": {},
   "outputs": [
    {
     "name": "stdin",
     "output_type": "stream",
     "text": [
      "Enter your unit: 250\n"
     ]
    },
    {
     "name": "stdout",
     "output_type": "stream",
     "text": [
      "1000.0\n"
     ]
    }
   ],
   "source": [
    "amount=0\n",
    "\n",
    "units=float(input('Enter your unit:'))\n",
    "\n",
    "if units <= 100:\n",
    "    print(amount)\n",
    "\n",
    "elif units is range(100,200):\n",
    "    amount=((units-100)*5)\n",
    "    print(amount)\n",
    "\n",
    "elif units >200:\n",
    "    amount=((units-200)*10) + 500\n",
    "    print(amount)\n",
    "\n"
   ]
  },
  {
   "cell_type": "code",
   "execution_count": null,
   "id": "9ef40c53-ed66-43c6-937f-2dc3ce322606",
   "metadata": {},
   "outputs": [],
   "source": []
  }
 ],
 "metadata": {
  "kernelspec": {
   "display_name": "Python 3 (ipykernel)",
   "language": "python",
   "name": "python3"
  },
  "language_info": {
   "codemirror_mode": {
    "name": "ipython",
    "version": 3
   },
   "file_extension": ".py",
   "mimetype": "text/x-python",
   "name": "python",
   "nbconvert_exporter": "python",
   "pygments_lexer": "ipython3",
   "version": "3.12.7"
  }
 },
 "nbformat": 4,
 "nbformat_minor": 5
}
