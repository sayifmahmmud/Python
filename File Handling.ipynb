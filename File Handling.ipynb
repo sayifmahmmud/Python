{
 "cells": [
  {
   "cell_type": "markdown",
   "id": "c3072f05-6b46-4261-888d-791e07731e05",
   "metadata": {},
   "source": [
    "# Reading Text from a File"
   ]
  },
  {
   "cell_type": "markdown",
   "id": "0eb5b891-f189-4dd9-aea2-2757702ba921",
   "metadata": {},
   "source": [
    "Before reading from a file, you need to make sure the file exists. This example will show you how to open a text file and read its contents line by line, which is useful for processing files that are too large to fit into memory all at once."
   ]
  },
  {
   "cell_type": "code",
   "execution_count": null,
   "id": "96f2a1bb-793e-4418-9bb8-be8c04dcf817",
   "metadata": {},
   "outputs": [],
   "source": [
    "with open('py1.txt', 'r') as file:\n",
    "    # Read each line in the file one at a time\n",
    "    for line in file:\n",
    "        # Process each line\n",
    "        print(line.strip())  # The strip() method removes any leading/trailing whitespace & newline character"
   ]
  },
  {
   "cell_type": "markdown",
   "id": "923a7385-7d9d-49da-8ae0-1d1eccd61371",
   "metadata": {},
   "source": [
    "# Writing Text to a File"
   ]
  },
  {
   "cell_type": "markdown",
   "id": "7684ba23-d355-40ab-ab5d-ea3c773f9113",
   "metadata": {},
   "source": [
    "Write strings to a file, which is useful for logging, saving outputs, etc. We'll open a file in write mode ('w'), which creates the file if it doesn't exist or truncates it if it does."
   ]
  },
  {
   "cell_type": "code",
   "execution_count": 5,
   "id": "3dfdafd8-95db-452a-8b74-dd605f99de97",
   "metadata": {},
   "outputs": [],
   "source": [
    "lines_to_write = ['We are allowing you to learn Python, Django, Machine Learning & AI', 'Python makes file handling easy.','Visit: www.aiquest.org']"
   ]
  },
  {
   "cell_type": "code",
   "execution_count": null,
   "id": "65e70e76-6436-4663-a089-b1656dc8018c",
   "metadata": {},
   "outputs": [],
   "source": [
    "# Open the file in write mode ('w')\n",
    "with open('py2.txt', 'w') as file:\n",
    "    for line in lines_to_write:\n",
    "        # Write each line to the file with a newline character at the end\n",
    "        file.write(line + '\\n')"
   ]
  },
  {
   "cell_type": "markdown",
   "id": "99549f53-59bb-4a60-aafd-b8e377156351",
   "metadata": {},
   "source": [
    "Using file.write() allows you to add text to a file. If you need to write multiple lines, you might use file.writelines() where you can pass a list of strings."
   ]
  },
  {
   "cell_type": "code",
   "execution_count": null,
   "id": "d810aa74-cfea-4471-9e62-94f781995c47",
   "metadata": {},
   "outputs": [],
   "source": [
    "# Open the file in write mode ('w')\n",
    "with open('py22.txt', 'w') as file:\n",
    "    for line in lines_to_write:\n",
    "        # Write each line to the file with a newline character at the end\n",
    "        file.writelines(line + '\\n')"
   ]
  },
  {
   "cell_type": "markdown",
   "id": "06a69214-4550-4141-accb-38e6aae194fa",
   "metadata": {},
   "source": [
    "# Appending Text to an Existing File"
   ]
  },
  {
   "cell_type": "markdown",
   "id": "7980e752-28a3-4cdb-9036-8061218d981c",
   "metadata": {},
   "source": [
    "If you want to add text to the end of an existing file without overwriting its contents, you should open the file in append mode ('a'). This example demonstrates how to append multiple lines to an existing file."
   ]
  },
  {
   "cell_type": "code",
   "execution_count": null,
   "id": "60846460-f16e-4f37-aa92-97f2ba61eb28",
   "metadata": {},
   "outputs": [],
   "source": [
    "new_text1 = ['Learn data science smartly', 'AI is Future']\n",
    "\n",
    "# Open the file in append mode ('a')\n",
    "with open('py22.txt', 'a') as file:\n",
    "    for line in new_text1:\n",
    "        # Append each line to the file\n",
    "        file.write(line + '\\n')"
   ]
  },
  {
   "cell_type": "markdown",
   "id": "f790dd88-3738-42ce-bb47-4eb4518ad804",
   "metadata": {},
   "source": [
    "This method is particularly useful for logging scenarios where new entries need to be added to a log file over time without losing the existing data."
   ]
  },
  {
   "cell_type": "code",
   "execution_count": null,
   "id": "94a073ab-3d30-4bd6-9a6b-dbd751062756",
   "metadata": {},
   "outputs": [],
   "source": []
  }
 ],
 "metadata": {
  "kernelspec": {
   "display_name": "Python 3 (ipykernel)",
   "language": "python",
   "name": "python3"
  },
  "language_info": {
   "codemirror_mode": {
    "name": "ipython",
    "version": 3
   },
   "file_extension": ".py",
   "mimetype": "text/x-python",
   "name": "python",
   "nbconvert_exporter": "python",
   "pygments_lexer": "ipython3",
   "version": "3.12.7"
  }
 },
 "nbformat": 4,
 "nbformat_minor": 5
}
