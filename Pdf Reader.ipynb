{
 "cells": [
  {
   "cell_type": "code",
   "execution_count": 1,
   "id": "e8d07e08-b383-4a79-8e1b-32e34404c4b0",
   "metadata": {},
   "outputs": [
    {
     "name": "stdout",
     "output_type": "stream",
     "text": [
      "Collecting pypdf\n",
      "  Downloading pypdf-5.2.0-py3-none-any.whl.metadata (7.2 kB)\n",
      "Downloading pypdf-5.2.0-py3-none-any.whl (298 kB)\n",
      "Installing collected packages: pypdf\n",
      "Successfully installed pypdf-5.2.0\n"
     ]
    }
   ],
   "source": [
    "!pip install pypdf"
   ]
  },
  {
   "cell_type": "code",
   "execution_count": null,
   "id": "027d94a1-91f0-4f93-a6b8-5857c3d57b3e",
   "metadata": {},
   "outputs": [],
   "source": [
    "from pypdf import PdfReader\n",
    "pdf = PdfReader('PyPrb.pdf')  # write the pdf path in ()"
   ]
  },
  {
   "cell_type": "code",
   "execution_count": null,
   "id": "a306359c-8722-48a2-96d9-f398fe0e2eb0",
   "metadata": {},
   "outputs": [],
   "source": [
    "len(pdf.pages)"
   ]
  },
  {
   "cell_type": "code",
   "execution_count": null,
   "id": "e36880ea-1b7d-4f9e-94cd-344bd63ef7fc",
   "metadata": {},
   "outputs": [],
   "source": [
    "page = pdf.pages[0]\n",
    "page.extract_text()"
   ]
  },
  {
   "cell_type": "code",
   "execution_count": null,
   "id": "d85b7777-40cc-4144-9973-a7de6a38a47e",
   "metadata": {},
   "outputs": [],
   "source": [
    "import PyPdf2   # PyPdf2 is more advance"
   ]
  },
  {
   "cell_type": "code",
   "execution_count": null,
   "id": "8584c763-88ab-4658-9d4a-982e66cb0b8d",
   "metadata": {},
   "outputs": [],
   "source": [
    "path = 'PyPrb.pdf'\n",
    "with open(path, \"rb\") as file:\n",
    "    reader = PyPDF2.PdfReader(file)\n",
    "    \n",
    "    #first_page = reader.pages[1].extract_text()\n",
    "    #print(first_page)\n",
    "    \n",
    "    for page in reader.pages:\n",
    "        text = page.extract_text()\n",
    "        print(text)\n",
    "        print('\\n')"
   ]
  }
 ],
 "metadata": {
  "kernelspec": {
   "display_name": "Python 3 (ipykernel)",
   "language": "python",
   "name": "python3"
  },
  "language_info": {
   "codemirror_mode": {
    "name": "ipython",
    "version": 3
   },
   "file_extension": ".py",
   "mimetype": "text/x-python",
   "name": "python",
   "nbconvert_exporter": "python",
   "pygments_lexer": "ipython3",
   "version": "3.12.7"
  }
 },
 "nbformat": 4,
 "nbformat_minor": 5
}
